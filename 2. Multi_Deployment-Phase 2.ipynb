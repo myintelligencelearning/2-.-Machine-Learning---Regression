{
 "cells": [
  {
   "cell_type": "code",
   "execution_count": 2,
   "id": "d3cc6b3b-53da-443b-9f19-2a5521d8fa2c",
   "metadata": {},
   "outputs": [
    {
     "name": "stderr",
     "output_type": "stream",
     "text": [
      "D:\\Anaconda\\Lib\\site-packages\\sklearn\\base.py:493: UserWarning: X does not have valid feature names, but LinearRegression was fitted with feature names\n",
      "  warnings.warn(\n"
     ]
    },
    {
     "data": {
      "text/plain": [
       "array([[56618.99238948]])"
      ]
     },
     "execution_count": 2,
     "metadata": {},
     "output_type": "execute_result"
    }
   ],
   "source": [
    "import pickle # import the pickle module for saving and loading models\n",
    "loaded_regressor=pickle.load(open(\"final_model_multilinear.sav\",\"rb\"))# load the model from the file\n",
    "result = loaded_regressor.predict([[1315,115816,297114,1,0]])# Make a prediction for input values by entering the values in  all the input columns\n",
    "result  # Show the prediction result"
   ]
  },
  {
   "cell_type": "code",
   "execution_count": null,
   "id": "597ff86b-65c8-4cdd-b215-653ba9ddcf00",
   "metadata": {},
   "outputs": [],
   "source": []
  }
 ],
 "metadata": {
  "kernelspec": {
   "display_name": "Python [conda env:base] *",
   "language": "python",
   "name": "conda-base-py"
  },
  "language_info": {
   "codemirror_mode": {
    "name": "ipython",
    "version": 3
   },
   "file_extension": ".py",
   "mimetype": "text/x-python",
   "name": "python",
   "nbconvert_exporter": "python",
   "pygments_lexer": "ipython3",
   "version": "3.12.7"
  }
 },
 "nbformat": 4,
 "nbformat_minor": 5
}
