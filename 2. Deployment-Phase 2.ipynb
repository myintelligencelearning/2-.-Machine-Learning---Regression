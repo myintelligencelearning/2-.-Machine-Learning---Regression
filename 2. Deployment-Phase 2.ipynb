{
 "cells": [
  {
   "cell_type": "code",
   "execution_count": 4,
   "id": "28f97cd5-6ff3-4eac-9a98-4331dab2f8ff",
   "metadata": {},
   "outputs": [
    {
     "name": "stderr",
     "output_type": "stream",
     "text": [
      "D:\\Anaconda\\Lib\\site-packages\\sklearn\\base.py:493: UserWarning: X does not have valid feature names, but LinearRegression was fitted with feature names\n",
      "  warnings.warn(\n"
     ]
    },
    {
     "data": {
      "text/plain": [
       "array([[26777.3913412]])"
      ]
     },
     "execution_count": 4,
     "metadata": {},
     "output_type": "execute_result"
    }
   ],
   "source": [
    "import pickle # Import the pickle module for saving and loading models\n",
    "loaded_regressor = pickle.load(open(\"final_model_linear.sav\",\"rb\"))  # Load the model from the file\n",
    "result = loaded_regressor.predict([[0]])  # Make a prediction for input value 13\n",
    "result  # Show the prediction result\n"
   ]
  },
  {
   "cell_type": "code",
   "execution_count": null,
   "id": "3c81cf9a-2412-461a-ae71-12e036f0646c",
   "metadata": {},
   "outputs": [],
   "source": [
    "    "
   ]
  }
 ],
 "metadata": {
  "kernelspec": {
   "display_name": "Python [conda env:base] *",
   "language": "python",
   "name": "conda-base-py"
  },
  "language_info": {
   "codemirror_mode": {
    "name": "ipython",
    "version": 3
   },
   "file_extension": ".py",
   "mimetype": "text/x-python",
   "name": "python",
   "nbconvert_exporter": "python",
   "pygments_lexer": "ipython3",
   "version": "3.12.7"
  }
 },
 "nbformat": 4,
 "nbformat_minor": 5
}
